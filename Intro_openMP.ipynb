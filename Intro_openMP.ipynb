{
  "nbformat": 4,
  "nbformat_minor": 0,
  "metadata": {
    "colab": {
      "name": "Intro - openMP.ipynb",
      "provenance": [],
      "include_colab_link": true
    },
    "kernelspec": {
      "name": "python3",
      "display_name": "Python 3"
    }
  },
  "cells": [
    {
      "cell_type": "markdown",
      "metadata": {
        "id": "view-in-github",
        "colab_type": "text"
      },
      "source": [
        "<a href=\"https://colab.research.google.com/github/lui02m/cuadernos-de-paralela/blob/main/Intro_openMP.ipynb\" target=\"_parent\"><img src=\"https://colab.research.google.com/assets/colab-badge.svg\" alt=\"Open In Colab\"/></a>"
      ]
    },
    {
      "cell_type": "code",
      "metadata": {
        "colab": {
          "base_uri": "https://localhost:8080/"
        },
        "id": "87uMNHucB5Sz",
        "outputId": "cf5b801b-5459-4559-f66d-c65bd7d02985"
      },
      "source": [
        "code=\"\"\"\r\n",
        "#include <omp.h>\r\n",
        "#include <stdlib.h>\r\n",
        "#include <stdio.h>\r\n",
        "\r\n",
        "int main(int argc, char* argv[])\r\n",
        "{\r\n",
        "  int iam =0, np = 1;\r\n",
        "  printf(\"Region Serializada\\\\n\");\r\n",
        "  #pragma omp parallel private(iam, np)\r\n",
        "  {\r\n",
        "    np = omp_get_num_threads();\r\n",
        "    iam = omp_get_thread_num();\r\n",
        "    printf(\"Hola desde el hilo %d de %d \\\\n\", iam,np);\r\n",
        "  }\r\n",
        "}\"\"\"\r\n",
        "\r\n",
        "text_file = open(\"codeA.c\", \"w\")\r\n",
        "text_file.write(code)\r\n",
        "text_file.close()\r\n",
        "%env OMP_NUM_THREADS=4\r\n",
        "!gcc -o Ejecutar -fopenmp codeA.c\r\n",
        "!./Ejecutar"
      ],
      "execution_count": null,
      "outputs": [
        {
          "output_type": "stream",
          "text": [
            "env: OMP_NUM_THREADS=4\n",
            "Region Serializada\n",
            "Hola desde el hilo 0 de 4 \n",
            "Hola desde el hilo 1 de 4 \n",
            "Hola desde el hilo 2 de 4 \n",
            "Hola desde el hilo 3 de 4 \n"
          ],
          "name": "stdout"
        }
      ]
    },
    {
      "cell_type": "code",
      "metadata": {
        "colab": {
          "base_uri": "https://localhost:8080/"
        },
        "id": "gx1q0qZOJqwq",
        "outputId": "e84aef90-6e2f-48df-987d-ee41a49c5d2f"
      },
      "source": [
        "code=\"\"\"\r\n",
        "#include <omp.h>\r\n",
        "#include <stdlib.h>\r\n",
        "#include <stdio.h>\r\n",
        "\r\n",
        "\r\n",
        "int main(int argc, char* argv[])\r\n",
        "{\r\n",
        "  int x=1234;\r\n",
        "  int iam,np,i;\r\n",
        "  #pragma omp parallel private(iam, np, i, x)\r\n",
        "  { \r\n",
        "    iam = omp_get_thread_num();\r\n",
        "    printf(\"Soy el thread %d, antes de actualizar, con x=%d\\\\n\",iam,x);\r\n",
        "    x=iam*1111;\r\n",
        "    printf(\"\\t\\tSoy el thread %d, despues de actualizar, con x=%d\\\\n\",iam,x);\r\n",
        "  }\r\n",
        "printf(\"\\\\n Despues de pragma parallel x=%d \\\\n\",x); //x=1234\r\n",
        "}\r\n",
        "\"\"\"\r\n",
        "\r\n",
        "text_file = open(\"codeB.c\", \"w\")\r\n",
        "text_file.write(code)\r\n",
        "text_file.close()\r\n",
        "%env OMP_NUM_THREADS=4\r\n",
        "!gcc -o Ejecutar -fopenmp codeB.c\r\n",
        "!./Ejecutar"
      ],
      "execution_count": null,
      "outputs": [
        {
          "output_type": "stream",
          "text": [
            "env: OMP_NUM_THREADS=4\n",
            "Soy el thread 2, antes de actualizar, con x=0\n",
            "\t\tSoy el thread 2, despues de actualizar, con x=2222\n",
            "Soy el thread 3, antes de actualizar, con x=0\n",
            "\t\tSoy el thread 3, despues de actualizar, con x=3333\n",
            "Soy el thread 1, antes de actualizar, con x=0\n",
            "\t\tSoy el thread 1, despues de actualizar, con x=1111\n",
            "Soy el thread 0, antes de actualizar, con x=0\n",
            "\t\tSoy el thread 0, despues de actualizar, con x=0\n",
            "\n",
            " Despues de pragma parallel x=1234 \n"
          ],
          "name": "stdout"
        }
      ]
    }
  ]
}