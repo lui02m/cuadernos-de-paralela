{
  "nbformat": 4,
  "nbformat_minor": 0,
  "metadata": {
    "colab": {
      "name": "Guia #2: Taxonomia de Flynn",
      "provenance": [],
      "include_colab_link": true
    },
    "kernelspec": {
      "name": "python3",
      "display_name": "Python 3"
    }
  },
  "cells": [
    {
      "cell_type": "markdown",
      "metadata": {
        "id": "view-in-github",
        "colab_type": "text"
      },
      "source": [
        "<a href=\"https://colab.research.google.com/github/lui02m/cuadernos-de-paralela/blob/main/Guia_2_Taxonomia_de_Flynn.ipynb\" target=\"_parent\"><img src=\"https://colab.research.google.com/assets/colab-badge.svg\" alt=\"Open In Colab\"/></a>"
      ]
    },
    {
      "cell_type": "markdown",
      "metadata": {
        "id": "xCCs96_aEFrD"
      },
      "source": [
        "El siguiente código va a permitir que todo código ejecutado en el colab pueda ser medido"
      ]
    },
    {
      "cell_type": "code",
      "metadata": {
        "colab": {
          "base_uri": "https://localhost:8080/"
        },
        "id": "91EQIkYNzfIU",
        "outputId": "0b5e4b1e-8a57-4f8c-969e-4d41c7b97766"
      },
      "source": [
        "!pip install ipython-autotime\r\n",
        "\r\n",
        "%load_ext autotime"
      ],
      "execution_count": null,
      "outputs": [
        {
          "output_type": "stream",
          "text": [
            "Requirement already satisfied: ipython-autotime in /usr/local/lib/python3.6/dist-packages (0.2.0)\n",
            "Requirement already satisfied: ipython in /usr/local/lib/python3.6/dist-packages (from ipython-autotime) (5.5.0)\n",
            "Requirement already satisfied: decorator in /usr/local/lib/python3.6/dist-packages (from ipython->ipython-autotime) (4.4.2)\n",
            "Requirement already satisfied: prompt-toolkit<2.0.0,>=1.0.4 in /usr/local/lib/python3.6/dist-packages (from ipython->ipython-autotime) (1.0.18)\n",
            "Requirement already satisfied: pexpect; sys_platform != \"win32\" in /usr/local/lib/python3.6/dist-packages (from ipython->ipython-autotime) (4.8.0)\n",
            "Requirement already satisfied: traitlets>=4.2 in /usr/local/lib/python3.6/dist-packages (from ipython->ipython-autotime) (4.3.3)\n",
            "Requirement already satisfied: setuptools>=18.5 in /usr/local/lib/python3.6/dist-packages (from ipython->ipython-autotime) (50.3.2)\n",
            "Requirement already satisfied: pickleshare in /usr/local/lib/python3.6/dist-packages (from ipython->ipython-autotime) (0.7.5)\n",
            "Requirement already satisfied: simplegeneric>0.8 in /usr/local/lib/python3.6/dist-packages (from ipython->ipython-autotime) (0.8.1)\n",
            "Requirement already satisfied: pygments in /usr/local/lib/python3.6/dist-packages (from ipython->ipython-autotime) (2.6.1)\n",
            "Requirement already satisfied: wcwidth in /usr/local/lib/python3.6/dist-packages (from prompt-toolkit<2.0.0,>=1.0.4->ipython->ipython-autotime) (0.2.5)\n",
            "Requirement already satisfied: six>=1.9.0 in /usr/local/lib/python3.6/dist-packages (from prompt-toolkit<2.0.0,>=1.0.4->ipython->ipython-autotime) (1.15.0)\n",
            "Requirement already satisfied: ptyprocess>=0.5 in /usr/local/lib/python3.6/dist-packages (from pexpect; sys_platform != \"win32\"->ipython->ipython-autotime) (0.6.0)\n",
            "Requirement already satisfied: ipython-genutils in /usr/local/lib/python3.6/dist-packages (from traitlets>=4.2->ipython->ipython-autotime) (0.2.0)\n",
            "The autotime extension is already loaded. To reload it, use:\n",
            "  %reload_ext autotime\n",
            "time: 2.53 s\n"
          ],
          "name": "stdout"
        }
      ]
    },
    {
      "cell_type": "code",
      "metadata": {
        "colab": {
          "base_uri": "https://localhost:8080/"
        },
        "id": "EfRNKumpFJaN",
        "outputId": "c20e0251-17df-4579-ac74-016a6069943f"
      },
      "source": [
        "print(sum(range(10)))"
      ],
      "execution_count": null,
      "outputs": [
        {
          "output_type": "stream",
          "text": [
            "45\n",
            "time: 1.3 ms\n"
          ],
          "name": "stdout"
        }
      ]
    },
    {
      "cell_type": "markdown",
      "metadata": {
        "id": "u1gd4K6TFdSn"
      },
      "source": [
        "Pregunta #1: Que porción de 1 segundo es el valor impreso?"
      ]
    },
    {
      "cell_type": "markdown",
      "metadata": {
        "id": "_Hl8sQD1HMKz"
      },
      "source": [
        "\r\n",
        "---\r\n",
        "\r\n"
      ]
    },
    {
      "cell_type": "markdown",
      "metadata": {
        "id": "06N5iGs0F-KK"
      },
      "source": [
        "A seguir, tenemos una librería de Python llamado **numba** que realiza paralelización automatica. Asi, se puede verificar que al usar prange() se tiene mejor tiempo de ejecución que al usar range()"
      ]
    },
    {
      "cell_type": "code",
      "metadata": {
        "colab": {
          "base_uri": "https://localhost:8080/"
        },
        "id": "4pfRIJ1ajxKD",
        "outputId": "6c1fb1ab-9fad-4dc0-d130-51b042c21fad"
      },
      "source": [
        "from numba import njit, prange\r\n",
        "\r\n",
        "A = np.arange(5, 14000000)\r\n",
        "@njit(parallel=True)\r\n",
        "def prange_test(A):\r\n",
        "    s = 0\r\n",
        "    # Without \"parallel=True\" in the jit-decorator\r\n",
        "    # the prange statement is equivalent to range\r\n",
        "    for i in prange(A.shape[0]):\r\n",
        "        s += A[i]\r\n",
        "    return s\r\n",
        "\r\n",
        "print(prange_test(A))"
      ],
      "execution_count": null,
      "outputs": [
        {
          "output_type": "stream",
          "text": [
            "97999992999990\n",
            "time: 396 ms\n"
          ],
          "name": "stdout"
        }
      ]
    },
    {
      "cell_type": "code",
      "metadata": {
        "colab": {
          "base_uri": "https://localhost:8080/"
        },
        "id": "pmy4BS66k4TB",
        "outputId": "886ba83a-6840-492d-ebd1-98eda030c2e4"
      },
      "source": [
        "from numba import njit, prange\r\n",
        "\r\n",
        "A = np.arange(5, 14000000)\r\n",
        "#@njit(parallel=True)\r\n",
        "def prange_test(A):\r\n",
        "    s = 0\r\n",
        "    # Without \"parallel=True\" in the jit-decorator\r\n",
        "    # the prange statement is equivalent to range\r\n",
        "    for i in range(A.shape[0]):\r\n",
        "        s += A[i]\r\n",
        "    return s\r\n",
        "\r\n",
        "print(prange_test(A))\r\n",
        "\r\n"
      ],
      "execution_count": null,
      "outputs": [
        {
          "output_type": "stream",
          "text": [
            "97999992999990\n",
            "time: 3.03 s\n"
          ],
          "name": "stdout"
        }
      ]
    },
    {
      "cell_type": "markdown",
      "metadata": {
        "id": "QAl9s67VKzEh"
      },
      "source": [
        "Pregunta #2: identifique otros valores en A, de manera que, serializando, tengamos mejor resultado que paralelizando"
      ]
    },
    {
      "cell_type": "markdown",
      "metadata": {
        "id": "qk5RRK--LK8H"
      },
      "source": [
        "\r\n",
        "\r\n",
        "---\r\n",
        "\r\n"
      ]
    },
    {
      "cell_type": "markdown",
      "metadata": {
        "id": "vcEN_PS4LOTq"
      },
      "source": [
        "La Taxonomia de Flynn define 4 tipos de arquitecturas para computación paralela: SISD, SIMD, MISD, y MIMD. \r\n",
        "\r\n",
        "\r\n",
        "---\r\n",
        "\r\n",
        "\r\n",
        "Pregunta #3 : El ultimo código ejecutado es de tipo?"
      ]
    },
    {
      "cell_type": "markdown",
      "metadata": {
        "id": "Hz_y6QaKM_LQ"
      },
      "source": [
        "\r\n",
        "\r\n",
        "---\r\n",
        "\r\n"
      ]
    },
    {
      "cell_type": "markdown",
      "metadata": {
        "id": "rbyAXmF5NDlv"
      },
      "source": [
        "Pregunta #4: el siguiente código paralelo es de tipo? Comentar el código para justificar su respuesta"
      ]
    },
    {
      "cell_type": "code",
      "metadata": {
        "colab": {
          "base_uri": "https://localhost:8080/"
        },
        "id": "J4GKbs1mLeVp",
        "outputId": "2ffce95b-d32f-4647-d133-072e0857b528"
      },
      "source": [
        "import threading\r\n",
        "import time\r\n",
        "\r\n",
        "def print_time(name, n):\r\n",
        "    count = 0   \r\n",
        "    print(\"Para el Hilo: %s, en el momento: %s, su valor de count es: %s\" % ( name, time.ctime(), count))\r\n",
        "    while count < 5:\r\n",
        "        time.sleep(n)\r\n",
        "        count+=1\r\n",
        "        print(\"%s: %s. count %s\" % ( name, time.ctime(), count))\r\n",
        "\r\n",
        "        \r\n",
        "t1 = threading.Thread(target=print_time, args=(\"Thread-1\", 0, ) )\r\n",
        "t2 = threading.Thread(target=print_time, args=(\"Thread-2\", 0, ) )\r\n",
        "\r\n",
        "t1.start()\r\n",
        "t2.start()"
      ],
      "execution_count": null,
      "outputs": [
        {
          "output_type": "stream",
          "text": [
            "Para el Hilo: Thread-1, en el momento: Wed Dec  9 01:54:33 2020, su valor de count es: 0\n",
            "Thread-1: Wed Dec  9 01:54:33 2020. count 1\n",
            "Thread-1: Wed Dec  9 01:54:33 2020. count 2\n",
            "Thread-1: Wed Dec  9 01:54:33 2020. count 3\n",
            "Thread-1: Wed Dec  9 01:54:33 2020. count 4\n",
            "Thread-1: Wed Dec  9 01:54:33 2020. count 5\n",
            "Para el Hilo: Thread-2, en el momento: Wed Dec  9 01:54:33 2020, su valor de count es: 0\n",
            "time: 6.9 ms\n",
            "Thread-2: Wed Dec  9 01:54:33 2020. count 1\n",
            "Thread-2: Wed Dec  9 01:54:33 2020. count 2\n",
            "Thread-2: Wed Dec  9 01:54:33 2020. count 3\n",
            "Thread-2: Wed Dec  9 01:54:33 2020. count 4\n",
            "Thread-2: Wed Dec  9 01:54:33 2020. count 5\n"
          ],
          "name": "stdout"
        }
      ]
    },
    {
      "cell_type": "markdown",
      "metadata": {
        "id": "kj5mNpdml0F4"
      },
      "source": [
        "\r\n",
        "\r\n",
        "---\r\n",
        "\r\n"
      ]
    },
    {
      "cell_type": "markdown",
      "metadata": {
        "id": "BjPhiBi7k9CH"
      },
      "source": [
        "Una computadora paralela tipo MIMD es utilizado más en la computación distribuida, ejm. Clusters. El siguiente código en python desktop muestra tal funcionamiento"
      ]
    },
    {
      "cell_type": "code",
      "metadata": {
        "id": "3BKSrHpylh-J"
      },
      "source": [
        "#greeting-server.py\r\n",
        "import Pyro4\r\n",
        "\r\n",
        "@Pyro4.expose\r\n",
        "class GreetingMaker(object):\r\n",
        "    def get_fortune(self, name):\r\n",
        "        return \"Hello, {0}. Here is your fortune message:\\n\" \\\r\n",
        "               \"Behold the warranty -- the bold print giveth and the fine print taketh away.\".format(name)\r\n",
        "\r\n",
        "daemon = Pyro4.Daemon()                # make a Pyro daemon\r\n",
        "uri = daemon.register(GreetingMaker)   # register the greeting maker as a Pyro object\r\n",
        "\r\n",
        "print(\"Ready. Object uri =\", uri)      # print the uri so we can use it in the client later\r\n",
        "daemon.requestLoop()                   # start the event loop of the server to wait for calls"
      ],
      "execution_count": null,
      "outputs": []
    },
    {
      "cell_type": "code",
      "metadata": {
        "id": "UrqRam3ulrvh"
      },
      "source": [
        "#greeting-client.py\r\n",
        "import Pyro4\r\n",
        "\r\n",
        "uri = input(\"What is the Pyro uri of the greeting object? \").strip()\r\n",
        "name = input(\"What is your name? \").strip()\r\n",
        "\r\n",
        "greeting_maker = Pyro4.Proxy(uri)         # get a Pyro proxy to the greeting object\r\n",
        "print(greeting_maker.get_fortune(name))   # call method normally"
      ],
      "execution_count": null,
      "outputs": []
    },
    {
      "cell_type": "markdown",
      "metadata": {
        "id": "h177eMCuqEJq"
      },
      "source": [
        "Pregunta #5: Explique que hace este código de tipo MIMD"
      ]
    },
    {
      "cell_type": "markdown",
      "metadata": {
        "id": "xPk19-hIqNiY"
      },
      "source": [
        "\r\n",
        "\r\n",
        "---\r\n",
        "\r\n"
      ]
    },
    {
      "cell_type": "markdown",
      "metadata": {
        "id": "XPRR57WRNb3M"
      },
      "source": [
        "Ejercicio Propuesto: Crear un ejemplo que muestre una computación paralela de tipo MISD"
      ]
    },
    {
      "cell_type": "code",
      "metadata": {
        "id": "F_n7n-qbQvC-"
      },
      "source": [
        "\r\n",
        "\r\n",
        "\r\n",
        "\r\n",
        "\r\n"
      ],
      "execution_count": null,
      "outputs": []
    },
    {
      "cell_type": "markdown",
      "metadata": {
        "id": "AiVq7B6RmsZI"
      },
      "source": [
        "**Referencias**\r\n",
        "\r\n",
        "https://wiki.python.org/moin/ParallelProcessing\r\n",
        "\r\n",
        "https://numba.readthedocs.io/en/stable/user/parallel.html\r\n",
        "\r\n",
        "https://ao.gl/how-to-measure-execution-time-in-google-colab/\r\n",
        "\r\n",
        "http://noisymime.org/blogimages/SIMD.pdf"
      ]
    }
  ]
}